{
 "cells": [
  {
   "cell_type": "code",
   "execution_count": 116,
   "id": "bf9a6b12",
   "metadata": {},
   "outputs": [],
   "source": [
    "import sys\n",
    "sys.path.append('/home/dell/miniconda3/envs/VBOF/lib/python3.8/site-packages')\n",
    "sys.path.append('/media/dell/0E54E2B554E29EA9/HanRunpeng/HIV-VBOF/')\n",
    "import cobra\n",
    "import numpy as np\n",
    "from VBOFKit import analysis\n",
    "import gurobipy as grb\n",
    "import pandas as pd\n",
    "import matplotlib.pyplot as plt\n",
    "import seaborn as sns\n",
    "from functools import reduce"
   ]
  },
  {
   "cell_type": "code",
   "execution_count": 117,
   "id": "8b87e445",
   "metadata": {},
   "outputs": [],
   "source": [
    "solver = 'gurobi'"
   ]
  },
  {
   "cell_type": "code",
   "execution_count": 118,
   "id": "ea1ea38f",
   "metadata": {},
   "outputs": [],
   "source": [
    "optimized_flux_host = []\n",
    "optimized_flux_virus = []\n",
    "single_gene_ko = []\n",
    "single_reaction_ko = []"
   ]
  },
  {
   "cell_type": "markdown",
   "id": "c6eb3f36",
   "metadata": {},
   "source": [
    "# Comparison and Single-gene/reaction KO"
   ]
  },
  {
   "cell_type": "markdown",
   "id": "124e80a9",
   "metadata": {},
   "source": [
    "Naive CD4T"
   ]
  },
  {
   "cell_type": "code",
   "execution_count": 119,
   "id": "4b21e943",
   "metadata": {},
   "outputs": [],
   "source": [
    "tn_model = cobra.io.read_sbml_model('models/host-virus-model/NaiveT.hvm.xml')"
   ]
  },
  {
   "cell_type": "code",
   "execution_count": 120,
   "id": "c47703e3",
   "metadata": {},
   "outputs": [],
   "source": [
    "(tn_hostF,tn_hostX,tn_virusF,tn_virusX) = analysis.Optimize(tn_model, VirusRxn=-1,HostRxn=-2,\n",
    "                                                            solver=solver)\n",
    "optimized_flux_host.append(tn_hostF)\n",
    "optimized_flux_virus.append(tn_virusF)"
   ]
  },
  {
   "cell_type": "code",
   "execution_count": 47,
   "id": "c774417d",
   "metadata": {},
   "outputs": [
    {
     "name": "stdout",
     "output_type": "stream",
     "text": [
      "Read LP format model from file /tmp/tmpy7azps58.lp\n",
      "Reading time = 0.03 seconds\n",
      ": 3153 rows, 10360 columns, 38910 nonzeros\n"
     ]
    }
   ],
   "source": [
    "tn_model_remove_obj = tn_model.copy()\n",
    "tn_model_remove_obj.remove_reactions([tn_model.reactions[-2].id])\n",
    "hvmComp_tn,regulation_tn,hostXd_tn,virusXd_tn = analysis.Compare(HVM_remove_obj=tn_model_remove_obj,\n",
    "                                                                 objIdx=-2, hostX=tn_hostX, virusX=tn_virusX)"
   ]
  },
  {
   "cell_type": "code",
   "execution_count": 48,
   "id": "d4704ccc",
   "metadata": {},
   "outputs": [],
   "source": [
    "tn_single_gene_ko, tn_single_reaction_ko = analysis.Knockout(tn_model, -2, -1, solver)"
   ]
  },
  {
   "cell_type": "markdown",
   "id": "1fa64d64",
   "metadata": {},
   "source": [
    "T Helper 1"
   ]
  },
  {
   "cell_type": "code",
   "execution_count": 121,
   "id": "3013453b",
   "metadata": {},
   "outputs": [],
   "source": [
    "th1_model = cobra.io.read_sbml_model('models/host-virus-model/Th1.hvm.xml')"
   ]
  },
  {
   "cell_type": "code",
   "execution_count": 122,
   "id": "7a9599df",
   "metadata": {},
   "outputs": [],
   "source": [
    "(th1_hostF,th1_hostX,th1_virusF,th1_virusX) = analysis.Optimize(th1_model, VirusRxn=-1,HostRxn=-4,\n",
    "                                                            solver=solver)\n",
    "optimized_flux_host.append(th1_hostF)\n",
    "optimized_flux_virus.append(th1_virusF)"
   ]
  },
  {
   "cell_type": "code",
   "execution_count": 51,
   "id": "e651e46d",
   "metadata": {},
   "outputs": [
    {
     "name": "stdout",
     "output_type": "stream",
     "text": [
      "Read LP format model from file /tmp/tmp410xwaq0.lp\n",
      "Reading time = 0.02 seconds\n",
      ": 2517 rows, 7914 columns, 27902 nonzeros\n"
     ]
    }
   ],
   "source": [
    "th1_model_remove_obj = th1_model.copy()\n",
    "th1_model_remove_obj.remove_reactions([th1_model.reactions[-4].id])\n",
    "hvmComp_th1,regulation_th1,hostXd_th1,virusXd_th1 = analysis.Compare(HVM_remove_obj=th1_model_remove_obj,\n",
    "                                                                 objIdx=-4, hostX=th1_hostX, virusX=th1_virusX)"
   ]
  },
  {
   "cell_type": "code",
   "execution_count": 52,
   "id": "31dcc969",
   "metadata": {},
   "outputs": [],
   "source": [
    "th1_single_gene_ko, th1_single_reaction_ko = analysis.Knockout(th1_model, -4, -1, solver)"
   ]
  },
  {
   "cell_type": "markdown",
   "id": "8ecd1fe4",
   "metadata": {},
   "source": [
    "T Helper 2"
   ]
  },
  {
   "cell_type": "code",
   "execution_count": 123,
   "id": "581e2578",
   "metadata": {},
   "outputs": [],
   "source": [
    "th2_model = cobra.io.read_sbml_model('models/host-virus-model/Th2.hvm.xml')"
   ]
  },
  {
   "cell_type": "code",
   "execution_count": 124,
   "id": "e9491d56",
   "metadata": {},
   "outputs": [],
   "source": [
    "(th2_hostF,th2_hostX,th2_virusF,th2_virusX) = analysis.Optimize(th2_model, VirusRxn=-1,HostRxn=-4,\n",
    "                                                            solver=solver)\n",
    "optimized_flux_host.append(th2_hostF)\n",
    "optimized_flux_virus.append(th2_virusF)"
   ]
  },
  {
   "cell_type": "code",
   "execution_count": 55,
   "id": "0787c9fc",
   "metadata": {},
   "outputs": [
    {
     "name": "stdout",
     "output_type": "stream",
     "text": [
      "Read LP format model from file /tmp/tmpdxfuuv7f.lp\n",
      "Reading time = 0.05 seconds\n",
      ": 3156 rows, 10506 columns, 39670 nonzeros\n"
     ]
    }
   ],
   "source": [
    "th2_model_remove_obj = th2_model.copy()\n",
    "th2_model_remove_obj.remove_reactions([th2_model.reactions[-4].id])\n",
    "hvmComp_th2,regulation_th2,hostXd_th2,virusXd_th2 = analysis.Compare(HVM_remove_obj=th2_model_remove_obj,\n",
    "                                                                 objIdx=-4, hostX=th2_hostX, virusX=th2_virusX)"
   ]
  },
  {
   "cell_type": "code",
   "execution_count": 56,
   "id": "18e5d6ad",
   "metadata": {},
   "outputs": [],
   "source": [
    "th2_single_gene_ko, th2_single_reaction_ko = analysis.Knockout(th2_model, -4, -1, solver)"
   ]
  },
  {
   "cell_type": "markdown",
   "id": "25419e4e",
   "metadata": {},
   "source": [
    "T Helper 17"
   ]
  },
  {
   "cell_type": "code",
   "execution_count": 125,
   "id": "0e852ed8",
   "metadata": {},
   "outputs": [],
   "source": [
    "th17_model = cobra.io.read_sbml_model('models/host-virus-model/Th17.hvm.xml')"
   ]
  },
  {
   "cell_type": "code",
   "execution_count": 126,
   "id": "fa0a8461",
   "metadata": {},
   "outputs": [],
   "source": [
    "(th17_hostF,th17_hostX,th17_virusF,th17_virusX) = analysis.Optimize(th17_model, VirusRxn=-1,HostRxn=-4,\n",
    "                                                            solver=solver)\n",
    "optimized_flux_host.append(th17_hostF)\n",
    "optimized_flux_virus.append(th17_virusF)"
   ]
  },
  {
   "cell_type": "code",
   "execution_count": 59,
   "id": "ff3dd04a",
   "metadata": {},
   "outputs": [
    {
     "name": "stdout",
     "output_type": "stream",
     "text": [
      "Read LP format model from file /tmp/tmpg_73c_u2.lp\n",
      "Reading time = 0.03 seconds\n",
      ": 3263 rows, 10566 columns, 38152 nonzeros\n"
     ]
    }
   ],
   "source": [
    "th17_model_remove_obj = th17_model.copy()\n",
    "th17_model_remove_obj.remove_reactions([th17_model.reactions[-4].id])\n",
    "hvmComp_th17,regulation_th17,hostXd_th17,virusXd_th17 = analysis.Compare(HVM_remove_obj=th17_model_remove_obj,\n",
    "                                                                 objIdx=-4, hostX=th17_hostX, virusX=th17_virusX)"
   ]
  },
  {
   "cell_type": "code",
   "execution_count": 60,
   "id": "0ff0c082",
   "metadata": {},
   "outputs": [],
   "source": [
    "th17_single_gene_ko, th17_single_reaction_ko = analysis.Knockout(th17_model, -4, -1, solver)"
   ]
  },
  {
   "cell_type": "markdown",
   "id": "2de9af05",
   "metadata": {},
   "source": [
    "# FVA Enforcement"
   ]
  },
  {
   "cell_type": "code",
   "execution_count": 71,
   "id": "9f7ed104",
   "metadata": {},
   "outputs": [],
   "source": [
    "fraction_of_optimum= 0.80"
   ]
  },
  {
   "cell_type": "code",
   "execution_count": 72,
   "id": "6224ec08",
   "metadata": {},
   "outputs": [],
   "source": [
    "enfvirus_tn = analysis.FVAEnforce(HVM=tn_model, virusIdx=-1, hostIdx=-2, fraction_of_optimum=fraction_of_optimum,\n",
    "                                  virus_optimum=tn_virusF)"
   ]
  },
  {
   "cell_type": "code",
   "execution_count": 73,
   "id": "decb96ca",
   "metadata": {},
   "outputs": [
    {
     "name": "stderr",
     "output_type": "stream",
     "text": [
      "/home/dell/miniconda3/lib/python3.8/site-packages/cobra/util/solver.py:554: UserWarning: Solver status is 'infeasible'.\n",
      "  warn(f\"Solver status is '{status}'.\", UserWarning)\n"
     ]
    }
   ],
   "source": [
    "enfvirus_th1 = analysis.FVAEnforce(HVM=th1_model, virusIdx=-1, hostIdx=-2, fraction_of_optimum=fraction_of_optimum,\n",
    "                                  virus_optimum=th1_virusF)"
   ]
  },
  {
   "cell_type": "code",
   "execution_count": 74,
   "id": "1a73472f",
   "metadata": {},
   "outputs": [],
   "source": [
    "enfvirus_th2 = analysis.FVAEnforce(HVM=th2_model, virusIdx=-1, hostIdx=-2, fraction_of_optimum=fraction_of_optimum,\n",
    "                                  virus_optimum=th2_virusF)"
   ]
  },
  {
   "cell_type": "code",
   "execution_count": 75,
   "id": "babd2575",
   "metadata": {},
   "outputs": [],
   "source": [
    "enfvirus_th17 = analysis.FVAEnforce(HVM=th17_model, virusIdx=-1, hostIdx=-2, fraction_of_optimum=fraction_of_optimum,\n",
    "                                  virus_optimum=th17_virusF)"
   ]
  },
  {
   "cell_type": "markdown",
   "id": "f1e7c15f",
   "metadata": {},
   "source": [
    "# PCA analysis"
   ]
  },
  {
   "cell_type": "code",
   "execution_count": 31,
   "id": "5bcbc611",
   "metadata": {},
   "outputs": [],
   "source": [
    "intersected_reactions = reduce(np.intersect1d, [tn_virusX.index, \n",
    "                                                    th1_virusX.index, \n",
    "                                                    th2_virusX.index, \n",
    "                                                    th17_virusX.index])"
   ]
  },
  {
   "cell_type": "code",
   "execution_count": 78,
   "id": "1e1115e5",
   "metadata": {},
   "outputs": [],
   "source": [
    "flux_df = pd.DataFrame(np.array([\n",
    "              np.nan_to_num(tn_virusX[intersected_reactions].values), \n",
    "              np.nan_to_num(th1_virusX[intersected_reactions].values),\n",
    "              np.nan_to_num(th2_virusX[intersected_reactions].values),\n",
    "              np.nan_to_num(th17_virusX[intersected_reactions].values),\n",
    "              np.nan_to_num(tn_hostX[intersected_reactions].values),\n",
    "              np.nan_to_num(th1_hostX[intersected_reactions].values),\n",
    "              np.nan_to_num(th2_hostX[intersected_reactions].values),\n",
    "              np.nan_to_num(th17_hostX[intersected_reactions].values)]))"
   ]
  },
  {
   "cell_type": "code",
   "execution_count": 79,
   "id": "7f59efd9",
   "metadata": {},
   "outputs": [],
   "source": [
    "from sklearn.decomposition import PCA\n",
    "pca = PCA(n_components=2)"
   ]
  },
  {
   "cell_type": "code",
   "execution_count": 80,
   "id": "ae65a5f2",
   "metadata": {},
   "outputs": [],
   "source": [
    "pca_result = pd.DataFrame(pca.fit_transform(flux_df), columns=['PC1','PC2'])\n",
    "pca_result['Cell type'] = ['Tn', 'Th1', 'Th2', 'Th17']*2\n",
    "pca_result['State'] = ['Virus optima']*4 + ['Host optima']*4"
   ]
  },
  {
   "cell_type": "code",
   "execution_count": 115,
   "id": "967617ff",
   "metadata": {},
   "outputs": [
    {
     "data": {
      "text/plain": [
       "array([0.48495382, 0.28330479])"
      ]
     },
     "execution_count": 115,
     "metadata": {},
     "output_type": "execute_result"
    }
   ],
   "source": [
    "pca.explained_variance_ratio_"
   ]
  },
  {
   "cell_type": "code",
   "execution_count": 107,
   "id": "3369a3b4",
   "metadata": {},
   "outputs": [
    {
     "data": {
      "image/png": "[encoded data removed]",
      "text/plain": [
       "<Figure size 288x162 with 1 Axes>"
      ]
     },
     "metadata": {},
     "output_type": "display_data"
    }
   ],
   "source": [
    "plt.figure(figsize=(4,2.25))\n",
    "sns.scatterplot(data=pca_result, x='PC1',y='PC2', hue='Cell type', style='State',\n",
    "               sizes=(500,500), legend=False)\n",
    "plt.savefig('PCA.pdf', bbox_inches='tight')"
   ]
  },
  {
   "cell_type": "markdown",
   "id": "04e00ced",
   "metadata": {},
   "source": [
    "# Annotate genes"
   ]
  },
  {
   "cell_type": "code",
   "execution_count": 66,
   "id": "6d58c303",
   "metadata": {},
   "outputs": [],
   "source": [
    "id_to_name_tn = pd.read_csv('models/Meta Info/Naive_ID2Gene.csv')\n",
    "id_to_name_th1 = pd.read_csv('models/Meta Info/Th1_ID2Gene.csv')\n",
    "id_to_name_th2 = pd.read_csv('models/Meta Info/Th2_ID2Gene.csv')\n",
    "id_to_name_th17 = pd.read_csv('models/Meta Info/Th17_ID2Gene.csv')"
   ]
  },
  {
   "cell_type": "code",
   "execution_count": 67,
   "id": "12f1148d",
   "metadata": {},
   "outputs": [],
   "source": [
    "analysis.AnnotateGene(id_to_name_tn, tn_single_gene_ko)\n",
    "analysis.AnnotateGene(id_to_name_th1, th1_single_gene_ko)\n",
    "analysis.AnnotateGene(id_to_name_th2, th2_single_gene_ko)\n",
    "analysis.AnnotateGene(id_to_name_th17, th17_single_gene_ko)"
   ]
  },
  {
   "cell_type": "markdown",
   "id": "06a2f77f",
   "metadata": {},
   "source": [
    "# Save results"
   ]
  },
  {
   "cell_type": "markdown",
   "id": "1e1fafa1",
   "metadata": {},
   "source": [
    "Optimal Fluxes"
   ]
  },
  {
   "cell_type": "code",
   "execution_count": 61,
   "id": "798cd6f7",
   "metadata": {},
   "outputs": [],
   "source": [
    "pd.DataFrame({'CD4 T Subtype':['Naive', 'Th1', 'Th2', 'Th17'],\n",
    "              'Host Biomass Optimal':optimized_flux_host,\n",
    "              'Virus Production Optimal':optimized_flux_virus}).to_csv('Result/optimal_fluxes.csv')"
   ]
  },
  {
   "cell_type": "markdown",
   "id": "1c5e512e",
   "metadata": {},
   "source": [
    "Optimal vector"
   ]
  },
  {
   "cell_type": "code",
   "execution_count": 128,
   "id": "d8bd1c53",
   "metadata": {},
   "outputs": [],
   "source": [
    "with pd.ExcelWriter('Result/Optimal_vector.xlsx') as writer:\n",
    "    tn_hostX.to_excel(writer, sheet_name='Naive host optima')\n",
    "    tn_virusX.to_excel(writer, sheet_name='Naive virus optima')\n",
    "    th1_hostX.to_excel(writer, sheet_name='Th1 host optima')\n",
    "    th1_virusX.to_excel(writer, sheet_name='Th1 host optima')\n",
    "    th2_hostX.to_excel(writer, sheet_name='Th2 host optima')\n",
    "    th2_virusX.to_excel(writer, sheet_name='Th2 virus optima')\n",
    "    th17_hostX.to_excel(writer, sheet_name='Th17 host optima')\n",
    "    th17_virusX.to_excel(writer, sheet_name='Th17 virus optima')"
   ]
  },
  {
   "cell_type": "markdown",
   "id": "fe84b947",
   "metadata": {},
   "source": [
    "Single-gene KO"
   ]
  },
  {
   "cell_type": "code",
   "execution_count": 68,
   "id": "1e566d21",
   "metadata": {},
   "outputs": [],
   "source": [
    "with pd.ExcelWriter('Result/single-gene_ko.xlsx') as writer:\n",
    "    tn_single_gene_ko.to_excel(writer, sheet_name='Naive')\n",
    "    th1_single_gene_ko.to_excel(writer, sheet_name='Th1')\n",
    "    th2_single_gene_ko.to_excel(writer, sheet_name='Th2')\n",
    "    th17_single_gene_ko.to_excel(writer, sheet_name='Th17')"
   ]
  },
  {
   "cell_type": "markdown",
   "id": "88455cbc",
   "metadata": {},
   "source": [
    "Single-reaction KO"
   ]
  },
  {
   "cell_type": "code",
   "execution_count": 69,
   "id": "dae7734a",
   "metadata": {},
   "outputs": [],
   "source": [
    "with pd.ExcelWriter('Result/single-reaction_ko.xlsx') as writer:\n",
    "    tn_single_reaction_ko.to_excel(writer, sheet_name='Naive')\n",
    "    th1_single_reaction_ko.to_excel(writer, sheet_name='Th1')\n",
    "    th2_single_reaction_ko.to_excel(writer, sheet_name='Th2')\n",
    "    th17_single_reaction_ko.to_excel(writer, sheet_name='Th17')"
   ]
  },
  {
   "cell_type": "markdown",
   "id": "ba98da4c",
   "metadata": {},
   "source": [
    "Altered_reactions"
   ]
  },
  {
   "cell_type": "code",
   "execution_count": 70,
   "id": "d143b8e2",
   "metadata": {},
   "outputs": [],
   "source": [
    "with pd.ExcelWriter('Result/Altered_reactions.xlsx') as writer:\n",
    "    regulation_tn.to_excel(writer, sheet_name='Naive')\n",
    "    regulation_th1.to_excel(writer, sheet_name='Th1')\n",
    "    regulation_th2.to_excel(writer, sheet_name='Th2')\n",
    "    regulation_th17.to_excel(writer, sheet_name='Th17')"
   ]
  },
  {
   "cell_type": "markdown",
   "id": "3cc57b08",
   "metadata": {},
   "source": [
    "Enforcement"
   ]
  },
  {
   "cell_type": "code",
   "execution_count": 79,
   "id": "c15128b7",
   "metadata": {},
   "outputs": [],
   "source": [
    "with pd.ExcelWriter('Result/Enforcement.xlsx') as writer:\n",
    "    enfvirus_tn.to_excel(writer, sheet_name='Naive')\n",
    "    enfvirus_th1.to_excel(writer, sheet_name='Th1')\n",
    "    enfvirus_th2.to_excel(writer, sheet_name='Th2')\n",
    "    enfvirus_th17.to_excel(writer, sheet_name='Th17')"
   ]
  }
 ],
 "metadata": {
  "kernelspec": {
   "display_name": "VBOF",
   "language": "python",
   "name": "vbof"
  },
  "language_info": {
   "codemirror_mode": {
    "name": "ipython",
    "version": 3
   },
   "file_extension": ".py",
   "mimetype": "text/x-python",
   "name": "python",
   "nbconvert_exporter": "python",
   "pygments_lexer": "ipython3",
   "version": "3.8.13"
  }
 },
 "nbformat": 4,
 "nbformat_minor": 5
}
